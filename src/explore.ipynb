{
    "cells": [
        {
            "cell_type": "markdown",
            "metadata": {},
            "source": [
                "# Explore here"
            ]
        },
        {
            "cell_type": "code",
            "execution_count": 1,
            "metadata": {},
            "outputs": [],
            "source": [
                "# Your code here\n",
                "import pandas as pd\n",
                "import numpy as np\n",
                "import matplotlib.pyplot as plt\n",
                "from sklearn.model_selection import train_test_split\n",
                "from sklearn.preprocessing import StandardScaler\n",
                "from sklearn.neighbors import KNeighborsClassifier\n",
                "from sklearn.metrics import accuracy_score, confusion_matrix, classification_report"
            ]
        },
        {
            "cell_type": "code",
            "execution_count": 2,
            "metadata": {},
            "outputs": [],
            "source": [
                "data = pd.read_csv(\"https://raw.githubusercontent.com/4GeeksAcademy/k-nearest-neighbors-project-tutorial/refs/heads/main/winequality-red.csv\", sep=\";\")\n",
                "data.to_csv(\"../data/raw/winequality-red.csv\")"
            ]
        },
        {
            "cell_type": "code",
            "execution_count": 3,
            "metadata": {},
            "outputs": [
                {
                    "data": {
                        "text/html": [
                            "<div>\n",
                            "<style scoped>\n",
                            "    .dataframe tbody tr th:only-of-type {\n",
                            "        vertical-align: middle;\n",
                            "    }\n",
                            "\n",
                            "    .dataframe tbody tr th {\n",
                            "        vertical-align: top;\n",
                            "    }\n",
                            "\n",
                            "    .dataframe thead th {\n",
                            "        text-align: right;\n",
                            "    }\n",
                            "</style>\n",
                            "<table border=\"1\" class=\"dataframe\">\n",
                            "  <thead>\n",
                            "    <tr style=\"text-align: right;\">\n",
                            "      <th></th>\n",
                            "      <th>fixed acidity</th>\n",
                            "      <th>volatile acidity</th>\n",
                            "      <th>citric acid</th>\n",
                            "      <th>residual sugar</th>\n",
                            "      <th>chlorides</th>\n",
                            "      <th>free sulfur dioxide</th>\n",
                            "      <th>total sulfur dioxide</th>\n",
                            "      <th>density</th>\n",
                            "      <th>pH</th>\n",
                            "      <th>sulphates</th>\n",
                            "      <th>alcohol</th>\n",
                            "      <th>quality</th>\n",
                            "    </tr>\n",
                            "  </thead>\n",
                            "  <tbody>\n",
                            "    <tr>\n",
                            "      <th>0</th>\n",
                            "      <td>7.4</td>\n",
                            "      <td>0.70</td>\n",
                            "      <td>0.00</td>\n",
                            "      <td>1.9</td>\n",
                            "      <td>0.076</td>\n",
                            "      <td>11.0</td>\n",
                            "      <td>34.0</td>\n",
                            "      <td>0.9978</td>\n",
                            "      <td>3.51</td>\n",
                            "      <td>0.56</td>\n",
                            "      <td>9.4</td>\n",
                            "      <td>5</td>\n",
                            "    </tr>\n",
                            "    <tr>\n",
                            "      <th>1</th>\n",
                            "      <td>7.8</td>\n",
                            "      <td>0.88</td>\n",
                            "      <td>0.00</td>\n",
                            "      <td>2.6</td>\n",
                            "      <td>0.098</td>\n",
                            "      <td>25.0</td>\n",
                            "      <td>67.0</td>\n",
                            "      <td>0.9968</td>\n",
                            "      <td>3.20</td>\n",
                            "      <td>0.68</td>\n",
                            "      <td>9.8</td>\n",
                            "      <td>5</td>\n",
                            "    </tr>\n",
                            "    <tr>\n",
                            "      <th>2</th>\n",
                            "      <td>7.8</td>\n",
                            "      <td>0.76</td>\n",
                            "      <td>0.04</td>\n",
                            "      <td>2.3</td>\n",
                            "      <td>0.092</td>\n",
                            "      <td>15.0</td>\n",
                            "      <td>54.0</td>\n",
                            "      <td>0.9970</td>\n",
                            "      <td>3.26</td>\n",
                            "      <td>0.65</td>\n",
                            "      <td>9.8</td>\n",
                            "      <td>5</td>\n",
                            "    </tr>\n",
                            "    <tr>\n",
                            "      <th>3</th>\n",
                            "      <td>11.2</td>\n",
                            "      <td>0.28</td>\n",
                            "      <td>0.56</td>\n",
                            "      <td>1.9</td>\n",
                            "      <td>0.075</td>\n",
                            "      <td>17.0</td>\n",
                            "      <td>60.0</td>\n",
                            "      <td>0.9980</td>\n",
                            "      <td>3.16</td>\n",
                            "      <td>0.58</td>\n",
                            "      <td>9.8</td>\n",
                            "      <td>6</td>\n",
                            "    </tr>\n",
                            "    <tr>\n",
                            "      <th>4</th>\n",
                            "      <td>7.4</td>\n",
                            "      <td>0.70</td>\n",
                            "      <td>0.00</td>\n",
                            "      <td>1.9</td>\n",
                            "      <td>0.076</td>\n",
                            "      <td>11.0</td>\n",
                            "      <td>34.0</td>\n",
                            "      <td>0.9978</td>\n",
                            "      <td>3.51</td>\n",
                            "      <td>0.56</td>\n",
                            "      <td>9.4</td>\n",
                            "      <td>5</td>\n",
                            "    </tr>\n",
                            "  </tbody>\n",
                            "</table>\n",
                            "</div>"
                        ],
                        "text/plain": [
                            "   fixed acidity  volatile acidity  citric acid  residual sugar  chlorides  \\\n",
                            "0            7.4              0.70         0.00             1.9      0.076   \n",
                            "1            7.8              0.88         0.00             2.6      0.098   \n",
                            "2            7.8              0.76         0.04             2.3      0.092   \n",
                            "3           11.2              0.28         0.56             1.9      0.075   \n",
                            "4            7.4              0.70         0.00             1.9      0.076   \n",
                            "\n",
                            "   free sulfur dioxide  total sulfur dioxide  density    pH  sulphates  \\\n",
                            "0                 11.0                  34.0   0.9978  3.51       0.56   \n",
                            "1                 25.0                  67.0   0.9968  3.20       0.68   \n",
                            "2                 15.0                  54.0   0.9970  3.26       0.65   \n",
                            "3                 17.0                  60.0   0.9980  3.16       0.58   \n",
                            "4                 11.0                  34.0   0.9978  3.51       0.56   \n",
                            "\n",
                            "   alcohol  quality  \n",
                            "0      9.4        5  \n",
                            "1      9.8        5  \n",
                            "2      9.8        5  \n",
                            "3      9.8        6  \n",
                            "4      9.4        5  "
                        ]
                    },
                    "execution_count": 3,
                    "metadata": {},
                    "output_type": "execute_result"
                }
            ],
            "source": [
                "data.head()"
            ]
        },
        {
            "cell_type": "code",
            "execution_count": 4,
            "metadata": {},
            "outputs": [
                {
                    "data": {
                        "text/plain": [
                            "(1599, 12)"
                        ]
                    },
                    "execution_count": 4,
                    "metadata": {},
                    "output_type": "execute_result"
                }
            ],
            "source": [
                "data.shape"
            ]
        },
        {
            "cell_type": "code",
            "execution_count": 5,
            "metadata": {},
            "outputs": [
                {
                    "data": {
                        "text/plain": [
                            "quality\n",
                            "5    681\n",
                            "6    638\n",
                            "7    199\n",
                            "4     53\n",
                            "8     18\n",
                            "3     10\n",
                            "Name: count, dtype: int64"
                        ]
                    },
                    "execution_count": 5,
                    "metadata": {},
                    "output_type": "execute_result"
                }
            ],
            "source": [
                "data[\"quality\"].value_counts()"
            ]
        },
        {
            "cell_type": "code",
            "execution_count": 6,
            "metadata": {},
            "outputs": [],
            "source": [
                "data[\"label\"] = data[\"quality\"].map({3:0,4:0,5:1,6:1,7:2,8:2})"
            ]
        },
        {
            "cell_type": "code",
            "execution_count": 7,
            "metadata": {},
            "outputs": [
                {
                    "data": {
                        "text/plain": [
                            "label\n",
                            "1    1319\n",
                            "2     217\n",
                            "0      63\n",
                            "Name: count, dtype: int64"
                        ]
                    },
                    "execution_count": 7,
                    "metadata": {},
                    "output_type": "execute_result"
                }
            ],
            "source": [
                "data[\"label\"].value_counts()"
            ]
        },
        {
            "cell_type": "code",
            "execution_count": 8,
            "metadata": {},
            "outputs": [],
            "source": [
                "X = data.drop([\"quality\",\"label\"], axis=1)\n",
                "y = data[\"label\"]\n",
                "\n",
                "X_train, X_test, y_train, y_test = train_test_split(X, y, test_size=0.2, random_state=42)"
            ]
        },
        {
            "cell_type": "code",
            "execution_count": 9,
            "metadata": {},
            "outputs": [],
            "source": [
                "scaler = StandardScaler()\n",
                "X_train_escalado = scaler.fit_transform(X_train)\n",
                "X_test_escalado = scaler.transform(X_test)"
            ]
        },
        {
            "cell_type": "code",
            "execution_count": 10,
            "metadata": {},
            "outputs": [],
            "source": [
                "# K inicial = 4\n",
                "modelKNN = KNeighborsClassifier(n_neighbors=4)\n",
                "modelKNN.fit(X_train_escalado, y_train)\n",
                "y_predKNN = modelKNN.predict(X_test_escalado)"
            ]
        },
        {
            "cell_type": "code",
            "execution_count": 11,
            "metadata": {},
            "outputs": [
                {
                    "data": {
                        "text/plain": [
                            "0.85"
                        ]
                    },
                    "execution_count": 11,
                    "metadata": {},
                    "output_type": "execute_result"
                }
            ],
            "source": [
                "accuracy_score(y_test,y_predKNN)"
            ]
        },
        {
            "cell_type": "code",
            "execution_count": 12,
            "metadata": {},
            "outputs": [
                {
                    "data": {
                        "text/plain": [
                            "array([[  3,   8,   0],\n",
                            "       [  2, 255,   5],\n",
                            "       [  0,  33,  14]])"
                        ]
                    },
                    "execution_count": 12,
                    "metadata": {},
                    "output_type": "execute_result"
                }
            ],
            "source": [
                "confusion_matrix(y_test,y_predKNN)"
            ]
        },
        {
            "cell_type": "code",
            "execution_count": 13,
            "metadata": {},
            "outputs": [
                {
                    "data": {
                        "text/plain": [
                            "'              precision    recall  f1-score   support\\n\\n           0       0.60      0.27      0.38        11\\n           1       0.86      0.97      0.91       262\\n           2       0.74      0.30      0.42        47\\n\\n    accuracy                           0.85       320\\n   macro avg       0.73      0.51      0.57       320\\nweighted avg       0.83      0.85      0.82       320\\n'"
                        ]
                    },
                    "execution_count": 13,
                    "metadata": {},
                    "output_type": "execute_result"
                }
            ],
            "source": [
                "classification_report(y_test,y_predKNN)"
            ]
        },
        {
            "cell_type": "code",
            "execution_count": 14,
            "metadata": {},
            "outputs": [],
            "source": [
                "accuracies = []\n",
                "\n",
                "for k in range(1,21):\n",
                "    modelOpt = KNeighborsClassifier(n_neighbors=k)\n",
                "    modelOpt.fit(X_train_escalado, y_train)\n",
                "    y_pred_Opt = modelOpt.predict(X_test_escalado)\n",
                "    accuracies.append(accuracy_score(y_test, y_pred_Opt))"
            ]
        },
        {
            "cell_type": "code",
            "execution_count": 21,
            "metadata": {},
            "outputs": [
                {
                    "data": {
                        "image/png": "[encoded data removed]",
                        "text/plain": [
                            "<Figure size 1000x500 with 1 Axes>"
                        ]
                    },
                    "metadata": {},
                    "output_type": "display_data"
                }
            ],
            "source": [
                "plt.figure(figsize=(10, 5))\n",
                "plt.plot(range(1, 21, 1), accuracies)\n",
                "plt.grid()\n",
                "plt.show()"
            ]
        },
        {
            "cell_type": "markdown",
            "metadata": {},
            "source": [
                "El mejor valor se obtuvo con un K entre 14 y 15"
            ]
        },
        {
            "cell_type": "code",
            "execution_count": 24,
            "metadata": {},
            "outputs": [
                {
                    "name": "stdout",
                    "output_type": "stream",
                    "text": [
                        "Este vino probablemente sea de calidad media 🍷\n"
                    ]
                }
            ],
            "source": [
                "def predict_wine_quality(lista_num):\n",
                "    lista_escalada = scaler.fit_transform([lista_num])\n",
                "    y_pred_Result = modelOpt.predict(lista_escalada)[0]\n",
                "    if y_pred_Result==0:\n",
                "        return \"Este vino probablemente sea de calidad baja 🍷\"\n",
                "    elif y_pred_Result==1:\n",
                "        return \"Este vino probablemente sea de calidad media 🍷\"\n",
                "    else:\n",
                "        return \"Este vino probablemente sea de calidad alta 🍷\"\n",
                "    \n",
                "\n",
                "texto = predict_wine_quality([7.4, 0.7, 0.0, 1.9, 0.076, 11.0, 34.0, 0.9978, 3.51, 0.56, 9.4])\n",
                "\n",
                "print(texto)"
            ]
        }
    ],
    "metadata": {
        "kernelspec": {
            "display_name": "Python 3",
            "language": "python",
            "name": "python3"
        },
        "language_info": {
            "codemirror_mode": {
                "name": "ipython",
                "version": 3
            },
            "file_extension": ".py",
            "mimetype": "text/x-python",
            "name": "python",
            "nbconvert_exporter": "python",
            "pygments_lexer": "ipython3",
            "version": "3.11.4"
        },
        "orig_nbformat": 4
    },
    "nbformat": 4,
    "nbformat_minor": 2
}
